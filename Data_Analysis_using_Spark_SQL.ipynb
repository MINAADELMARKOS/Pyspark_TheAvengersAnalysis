{
  "nbformat": 4,
  "nbformat_minor": 0,
  "metadata": {
    "colab": {
      "provenance": [],
      "include_colab_link": true
    },
    "kernelspec": {
      "name": "python3",
      "display_name": "Python 3"
    },
    "language_info": {
      "name": "python"
    }
  },
  "cells": [
    {
      "cell_type": "markdown",
      "metadata": {
        "id": "view-in-github",
        "colab_type": "text"
      },
      "source": [
        "<a href=\"https://colab.research.google.com/github/MINAADELMARKOS/TheAvengersAnalysis/blob/main/Data_Analysis_using_Spark_SQL.ipynb\" target=\"_parent\"><img src=\"https://colab.research.google.com/assets/colab-badge.svg\" alt=\"Open In Colab\"/></a>"
      ]
    },
    {
      "cell_type": "markdown",
      "source": [
        "# **Install Pyspark**"
      ],
      "metadata": {
        "id": "HP7Srpm5glPe"
      }
    },
    {
      "cell_type": "code",
      "execution_count": null,
      "metadata": {
        "colab": {
          "base_uri": "https://localhost:8080/"
        },
        "id": "nNy3s2bhSQih",
        "outputId": "f0fad133-2458-457e-b1ad-4ef167ab407e"
      },
      "outputs": [
        {
          "output_type": "stream",
          "name": "stdout",
          "text": [
            "Collecting pyspark\n",
            "  Downloading pyspark-3.5.1.tar.gz (317.0 MB)\n",
            "\u001b[2K     \u001b[90m━━━━━━━━━━━━━━━━━━━━━━━━━━━━━━━━━━━━━━━━\u001b[0m \u001b[32m317.0/317.0 MB\u001b[0m \u001b[31m3.4 MB/s\u001b[0m eta \u001b[36m0:00:00\u001b[0m\n",
            "\u001b[?25h  Preparing metadata (setup.py) ... \u001b[?25l\u001b[?25hdone\n",
            "Requirement already satisfied: py4j==0.10.9.7 in /usr/local/lib/python3.10/dist-packages (from pyspark) (0.10.9.7)\n",
            "Building wheels for collected packages: pyspark\n",
            "  Building wheel for pyspark (setup.py) ... \u001b[?25l\u001b[?25hdone\n",
            "  Created wheel for pyspark: filename=pyspark-3.5.1-py2.py3-none-any.whl size=317488491 sha256=9fbd855cb2615398a46694eaff2affee8b12f88be8504b8c524c24653982b5be\n",
            "  Stored in directory: /root/.cache/pip/wheels/80/1d/60/2c256ed38dddce2fdd93be545214a63e02fbd8d74fb0b7f3a6\n",
            "Successfully built pyspark\n",
            "Installing collected packages: pyspark\n",
            "Successfully installed pyspark-3.5.1\n"
          ]
        }
      ],
      "source": [
        "pip install pyspark"
      ]
    },
    {
      "cell_type": "code",
      "source": [
        "from pyspark.sql.types import Row\n",
        "from datetime import datetime\n",
        "from pyspark.sql import SQLContext\n",
        "from pyspark import SparkContext\n",
        "from pyspark.sql.session import SparkSession"
      ],
      "metadata": {
        "id": "3Ki_Cvv_SSJ4"
      },
      "execution_count": null,
      "outputs": []
    },
    {
      "cell_type": "code",
      "source": [
        "sc = SparkContext()\n",
        "sc"
      ],
      "metadata": {
        "colab": {
          "base_uri": "https://localhost:8080/",
          "height": 198
        },
        "id": "Fr_N_n4hSUpI",
        "outputId": "87aab817-e215-4699-f8ad-61305da60e5a"
      },
      "execution_count": null,
      "outputs": [
        {
          "output_type": "execute_result",
          "data": {
            "text/plain": [
              "<SparkContext master=local[*] appName=pyspark-shell>"
            ],
            "text/html": [
              "\n",
              "        <div>\n",
              "            <p><b>SparkContext</b></p>\n",
              "\n",
              "            <p><a href=\"http://787976039a96:4040\">Spark UI</a></p>\n",
              "\n",
              "            <dl>\n",
              "              <dt>Version</dt>\n",
              "                <dd><code>v3.5.1</code></dd>\n",
              "              <dt>Master</dt>\n",
              "                <dd><code>local[*]</code></dd>\n",
              "              <dt>AppName</dt>\n",
              "                <dd><code>pyspark-shell</code></dd>\n",
              "            </dl>\n",
              "        </div>\n",
              "        "
            ]
          },
          "metadata": {},
          "execution_count": 3
        }
      ]
    },
    {
      "cell_type": "code",
      "source": [
        "spark = SparkSession(sc)\n",
        "SQLContext = SQLContext(sc)"
      ],
      "metadata": {
        "colab": {
          "base_uri": "https://localhost:8080/"
        },
        "id": "cixcJ-MuSYBl",
        "outputId": "6ae45bb8-bb28-4ae2-d0e3-ba014bddb8a1"
      },
      "execution_count": null,
      "outputs": [
        {
          "output_type": "stream",
          "name": "stderr",
          "text": [
            "/usr/local/lib/python3.10/dist-packages/pyspark/sql/context.py:113: FutureWarning: Deprecated in 3.0.0. Use SparkSession.builder.getOrCreate() instead.\n",
            "  warnings.warn(\n"
          ]
        }
      ]
    },
    {
      "cell_type": "code",
      "source": [
        "movies_record = sc.parallelize([\n",
        "                                Row(certificate_id = 2195194,\n",
        "                                    movie_name = \"Iron Man\",\n",
        "                                    hit = True,\n",
        "                                    category = ['action','thriller'],\n",
        "                                    rating = {\"IMDB\":7.9 , \"rotten tomatoes\" : 7.7},\n",
        "                                    release_time = datetime(2008,5,1,13,1,5)\n",
        "                                    ),\n",
        "\n",
        "                                 Row(certificate_id = 2195204,\n",
        "                                    movie_name = \"Baywastch\",\n",
        "                                    hit = False,\n",
        "                                    category = ['comedy','action'],\n",
        "                                    rating = {\"IMDB\":5.6 , \"rotten tomatoes\" :4.0},\n",
        "                                    release_time = datetime(2017,5,12,3,2,5)\n",
        "                                    )\n",
        "])"
      ],
      "metadata": {
        "id": "ZDtkwWlUSYER"
      },
      "execution_count": null,
      "outputs": []
    },
    {
      "cell_type": "code",
      "source": [
        "movies_record_df = movies_record.toDF()\n",
        "movies_record_df.show()"
      ],
      "metadata": {
        "colab": {
          "base_uri": "https://localhost:8080/"
        },
        "id": "mlFlL_xQUWSw",
        "outputId": "81ccd5b0-f427-438a-dab0-f852b446aae7"
      },
      "execution_count": null,
      "outputs": [
        {
          "output_type": "stream",
          "name": "stdout",
          "text": [
            "+--------------+----------+-----+------------------+--------------------+-------------------+\n",
            "|certificate_id|movie_name|  hit|          category|              rating|       release_time|\n",
            "+--------------+----------+-----+------------------+--------------------+-------------------+\n",
            "|       2195194|  Iron Man| true|[action, thriller]|{IMDB -> 7.9, rot...|2008-05-01 13:01:05|\n",
            "|       2195204| Baywastch|false|  [comedy, action]|{IMDB -> 5.6, rot...|2017-05-12 03:02:05|\n",
            "+--------------+----------+-----+------------------+--------------------+-------------------+\n",
            "\n"
          ]
        }
      ]
    },
    {
      "cell_type": "markdown",
      "source": [
        "**Temporary view valid for just this session**"
      ],
      "metadata": {
        "id": "BDqpc2SuUp5E"
      }
    },
    {
      "cell_type": "code",
      "source": [
        "movies_record_df.createOrReplaceTempView('records')"
      ],
      "metadata": {
        "id": "D3ZtVIdfUyf7"
      },
      "execution_count": null,
      "outputs": []
    },
    {
      "cell_type": "code",
      "source": [
        "all_movie_records_df = SQLContext.sql(\"select * from records\")\n",
        "\n",
        "all_movie_records_df.show()"
      ],
      "metadata": {
        "colab": {
          "base_uri": "https://localhost:8080/"
        },
        "id": "Ka2bAhefbbf7",
        "outputId": "d097f2f8-c647-4b73-c474-5431b978bea0"
      },
      "execution_count": null,
      "outputs": [
        {
          "output_type": "stream",
          "name": "stdout",
          "text": [
            "+--------------+----------+-----+------------------+--------------------+-------------------+\n",
            "|certificate_id|movie_name|  hit|          category|              rating|       release_time|\n",
            "+--------------+----------+-----+------------------+--------------------+-------------------+\n",
            "|       2195194|  Iron Man| true|[action, thriller]|{IMDB -> 7.9, rot...|2008-05-01 13:01:05|\n",
            "|       2195204| Baywastch|false|  [comedy, action]|{IMDB -> 5.6, rot...|2017-05-12 03:02:05|\n",
            "+--------------+----------+-----+------------------+--------------------+-------------------+\n",
            "\n"
          ]
        }
      ]
    },
    {
      "cell_type": "code",
      "source": [
        "SQLContext.sql('select certificate_id,category[1], rating[\"IMDB\"] from records').show()"
      ],
      "metadata": {
        "colab": {
          "base_uri": "https://localhost:8080/"
        },
        "id": "IY-_MmTAcJTn",
        "outputId": "38facea3-ef71-4673-a72b-4ad8d068c908"
      },
      "execution_count": null,
      "outputs": [
        {
          "output_type": "stream",
          "name": "stdout",
          "text": [
            "+--------------+-----------+------------+\n",
            "|certificate_id|category[1]|rating[IMDB]|\n",
            "+--------------+-----------+------------+\n",
            "|       2195194|   thriller|         7.9|\n",
            "|       2195204|     action|         5.6|\n",
            "+--------------+-----------+------------+\n",
            "\n"
          ]
        }
      ]
    },
    {
      "cell_type": "code",
      "source": [
        "SQLContext.sql('select certificate_id, NOT hit from records').show()"
      ],
      "metadata": {
        "colab": {
          "base_uri": "https://localhost:8080/"
        },
        "id": "88s6FoYScJh4",
        "outputId": "5f7a1215-9f12-4017-99ff-116f79508b35"
      },
      "execution_count": null,
      "outputs": [
        {
          "output_type": "stream",
          "name": "stdout",
          "text": [
            "+--------------+---------+\n",
            "|certificate_id|(NOT hit)|\n",
            "+--------------+---------+\n",
            "|       2195194|    false|\n",
            "|       2195204|     true|\n",
            "+--------------+---------+\n",
            "\n"
          ]
        }
      ]
    },
    {
      "cell_type": "code",
      "source": [],
      "metadata": {
        "id": "nZLbzCtRjqLf"
      },
      "execution_count": null,
      "outputs": []
    },
    {
      "cell_type": "code",
      "source": [
        "SQLContext.sql(\"select * from records where hit = 'false' \").show()"
      ],
      "metadata": {
        "colab": {
          "base_uri": "https://localhost:8080/"
        },
        "id": "dbreFCLncJkc",
        "outputId": "ff20e5c5-72df-4ba4-ec0c-bd8586ddbd37"
      },
      "execution_count": null,
      "outputs": [
        {
          "output_type": "stream",
          "name": "stdout",
          "text": [
            "+--------------+----------+-----+----------------+--------------------+-------------------+\n",
            "|certificate_id|movie_name|  hit|        category|              rating|       release_time|\n",
            "+--------------+----------+-----+----------------+--------------------+-------------------+\n",
            "|       2195204| Baywastch|false|[comedy, action]|{IMDB -> 5.6, rot...|2017-05-12 03:02:05|\n",
            "+--------------+----------+-----+----------------+--------------------+-------------------+\n",
            "\n"
          ]
        }
      ]
    },
    {
      "cell_type": "code",
      "source": [
        "SQLContext.sql(\"select * from records where rating['IMDB'] < 6.0 \").show()"
      ],
      "metadata": {
        "colab": {
          "base_uri": "https://localhost:8080/"
        },
        "id": "pPwB0HRldskM",
        "outputId": "a5def9c3-37bb-4e32-cca4-dfed19720dff"
      },
      "execution_count": null,
      "outputs": [
        {
          "output_type": "stream",
          "name": "stdout",
          "text": [
            "+--------------+----------+-----+----------------+--------------------+-------------------+\n",
            "|certificate_id|movie_name|  hit|        category|              rating|       release_time|\n",
            "+--------------+----------+-----+----------------+--------------------+-------------------+\n",
            "|       2195204| Baywastch|false|[comedy, action]|{IMDB -> 5.6, rot...|2017-05-12 03:02:05|\n",
            "+--------------+----------+-----+----------------+--------------------+-------------------+\n",
            "\n"
          ]
        }
      ]
    },
    {
      "cell_type": "code",
      "source": [
        "SQLContext.sql(\"select * from records where release_time >= \\'2010-05-01 0:0:0\\'\").show()"
      ],
      "metadata": {
        "colab": {
          "base_uri": "https://localhost:8080/"
        },
        "id": "yREND8m1d4FI",
        "outputId": "ca64ef49-68bf-480a-dc68-6ef76efefc1c"
      },
      "execution_count": null,
      "outputs": [
        {
          "output_type": "stream",
          "name": "stdout",
          "text": [
            "+--------------+----------+-----+----------------+--------------------+-------------------+\n",
            "|certificate_id|movie_name|  hit|        category|              rating|       release_time|\n",
            "+--------------+----------+-----+----------------+--------------------+-------------------+\n",
            "|       2195204| Baywastch|false|[comedy, action]|{IMDB -> 5.6, rot...|2017-05-12 03:02:05|\n",
            "+--------------+----------+-----+----------------+--------------------+-------------------+\n",
            "\n"
          ]
        }
      ]
    },
    {
      "cell_type": "markdown",
      "source": [
        "# **Temporary view Shared across multiple sessions**"
      ],
      "metadata": {
        "id": "Ql2EN9SNekKj"
      }
    },
    {
      "cell_type": "code",
      "source": [
        "movies_record_df.createGlobalTempView(\"global_records\")"
      ],
      "metadata": {
        "id": "_2v3M6q1d4Hs"
      },
      "execution_count": null,
      "outputs": []
    },
    {
      "cell_type": "code",
      "source": [
        "SQLContext.sql('select * from global_temp.global_records').show()"
      ],
      "metadata": {
        "colab": {
          "base_uri": "https://localhost:8080/"
        },
        "id": "o6OPdhppd4KG",
        "outputId": "7ad2db44-c1d0-48f6-bc10-db1713a2b98c"
      },
      "execution_count": null,
      "outputs": [
        {
          "output_type": "stream",
          "name": "stdout",
          "text": [
            "+--------------+----------+-----+------------------+--------------------+-------------------+\n",
            "|certificate_id|movie_name|  hit|          category|              rating|       release_time|\n",
            "+--------------+----------+-----+------------------+--------------------+-------------------+\n",
            "|       2195194|  Iron Man| true|[action, thriller]|{IMDB -> 7.9, rot...|2008-05-01 13:01:05|\n",
            "|       2195204| Baywastch|false|  [comedy, action]|{IMDB -> 5.6, rot...|2017-05-12 03:02:05|\n",
            "+--------------+----------+-----+------------------+--------------------+-------------------+\n",
            "\n"
          ]
        }
      ]
    }
  ]
}