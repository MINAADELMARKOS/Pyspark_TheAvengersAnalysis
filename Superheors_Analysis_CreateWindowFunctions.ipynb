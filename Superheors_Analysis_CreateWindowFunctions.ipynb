{
  "nbformat": 4,
  "nbformat_minor": 0,
  "metadata": {
    "colab": {
      "provenance": [],
      "include_colab_link": true
    },
    "kernelspec": {
      "name": "python3",
      "display_name": "Python 3"
    },
    "language_info": {
      "name": "python"
    }
  },
  "cells": [
    {
      "cell_type": "markdown",
      "metadata": {
        "id": "view-in-github",
        "colab_type": "text"
      },
      "source": [
        "<a href=\"https://colab.research.google.com/github/MINAADELMARKOS/SuperHerosAnalysis/blob/main/Superheors_Analysis_CreateWindowFunctions.ipynb\" target=\"_parent\"><img src=\"https://colab.research.google.com/assets/colab-badge.svg\" alt=\"Open In Colab\"/></a>"
      ]
    },
    {
      "cell_type": "markdown",
      "source": [
        "# **Install Pyspark**"
      ],
      "metadata": {
        "id": "HP7Srpm5glPe"
      }
    },
    {
      "cell_type": "code",
      "execution_count": 1,
      "metadata": {
        "colab": {
          "base_uri": "https://localhost:8080/"
        },
        "id": "nNy3s2bhSQih",
        "outputId": "5dc16713-0e90-4c13-da2e-00ee3070898d"
      },
      "outputs": [
        {
          "output_type": "stream",
          "name": "stdout",
          "text": [
            "Collecting pyspark\n",
            "  Downloading pyspark-3.5.1.tar.gz (317.0 MB)\n",
            "\u001b[2K     \u001b[90m━━━━━━━━━━━━━━━━━━━━━━━━━━━━━━━━━━━━━━━━\u001b[0m \u001b[32m317.0/317.0 MB\u001b[0m \u001b[31m3.3 MB/s\u001b[0m eta \u001b[36m0:00:00\u001b[0m\n",
            "\u001b[?25h  Preparing metadata (setup.py) ... \u001b[?25l\u001b[?25hdone\n",
            "Requirement already satisfied: py4j==0.10.9.7 in /usr/local/lib/python3.10/dist-packages (from pyspark) (0.10.9.7)\n",
            "Building wheels for collected packages: pyspark\n",
            "  Building wheel for pyspark (setup.py) ... \u001b[?25l\u001b[?25hdone\n",
            "  Created wheel for pyspark: filename=pyspark-3.5.1-py2.py3-none-any.whl size=317488491 sha256=1372726befec344fa8abd8db349ca0cd1f5985df04073ca96085f26b205e35c5\n",
            "  Stored in directory: /root/.cache/pip/wheels/80/1d/60/2c256ed38dddce2fdd93be545214a63e02fbd8d74fb0b7f3a6\n",
            "Successfully built pyspark\n",
            "Installing collected packages: pyspark\n",
            "Successfully installed pyspark-3.5.1\n"
          ]
        }
      ],
      "source": [
        "pip install pyspark"
      ]
    },
    {
      "cell_type": "markdown",
      "source": [
        "# **Import Libraries**"
      ],
      "metadata": {
        "id": "C7LVl0iFiu9_"
      }
    },
    {
      "cell_type": "code",
      "source": [
        "from pyspark import SparkContext\n",
        "from pyspark.sql import SQLContext\n",
        "from pyspark.sql import SparkSession\n",
        "from pyspark.sql.types import Row\n",
        "from pyspark.sql.functions import desc\n",
        "from pyspark.sql.functions import avg"
      ],
      "metadata": {
        "id": "2ekw7iqOBTDY"
      },
      "execution_count": 2,
      "outputs": []
    },
    {
      "cell_type": "code",
      "source": [
        "from google.colab import drive\n",
        "drive.mount('/content/drive')"
      ],
      "metadata": {
        "colab": {
          "base_uri": "https://localhost:8080/"
        },
        "id": "5t9Mk7YNgWU3",
        "outputId": "c3f3c12f-6a7f-49ed-84e8-ad5d1460b924"
      },
      "execution_count": 7,
      "outputs": [
        {
          "output_type": "stream",
          "name": "stdout",
          "text": [
            "Mounted at /content/drive\n"
          ]
        }
      ]
    },
    {
      "cell_type": "code",
      "source": [
        "spark = SparkSession \\\n",
        "        .builder  \\\n",
        "        .appName(\"Window functions\") \\\n",
        "        .getOrCreate()"
      ],
      "metadata": {
        "id": "yQN-3_pN5rQm"
      },
      "execution_count": 8,
      "outputs": []
    },
    {
      "cell_type": "code",
      "source": [
        "sqlContext = SQLContext(spark)"
      ],
      "metadata": {
        "id": "5XK3hU5d6Ilz"
      },
      "execution_count": 9,
      "outputs": []
    },
    {
      "cell_type": "code",
      "source": [
        "characters_info = \"/content/drive/MyDrive/Python_Learn /superheroes_info.csv\"\n",
        "characters_stats = \"/content/drive/MyDrive/Python_Learn /superheroes_stats.csv\""
      ],
      "metadata": {
        "id": "zbMenvwl6IpI"
      },
      "execution_count": 12,
      "outputs": []
    },
    {
      "cell_type": "code",
      "source": [
        "powers = spark.read\\\n",
        "              .format(\"csv\")\\\n",
        "              .option(\"header\",\"true\")\\\n",
        "              .load(characters_stats)"
      ],
      "metadata": {
        "id": "d8HJZn70CFNK"
      },
      "execution_count": 13,
      "outputs": []
    },
    {
      "cell_type": "code",
      "source": [
        "powers.show(4)"
      ],
      "metadata": {
        "colab": {
          "base_uri": "https://localhost:8080/"
        },
        "id": "moi5acbXCw8I",
        "outputId": "aa09dc91-33a3-45e1-bc36-760c419608b6"
      },
      "execution_count": 14,
      "outputs": [
        {
          "output_type": "stream",
          "name": "stdout",
          "text": [
            "+----------+---------+------------+--------+-----+----------+-----+------+-----+\n",
            "|      Name|Alignment|Intelligence|Strength|Speed|Durability|Power|Combat|Total|\n",
            "+----------+---------+------------+--------+-----+----------+-----+------+-----+\n",
            "|   3-D Man|     good|        50.0|    31.0| 43.0|      32.0| 25.0|  52.0|233.0|\n",
            "|    A-Bomb|     good|        38.0|   100.0| 17.0|      80.0| 17.0|  64.0|316.0|\n",
            "|Abe Sapien|     good|        88.0|    14.0| 35.0|      42.0| 35.0|  85.0|299.0|\n",
            "|  Abin Sur|     good|        50.0|    90.0| 53.0|      64.0| 84.0|  65.0|406.0|\n",
            "+----------+---------+------------+--------+-----+----------+-----+------+-----+\n",
            "only showing top 4 rows\n",
            "\n"
          ]
        }
      ]
    },
    {
      "cell_type": "code",
      "source": [
        "powers.columns"
      ],
      "metadata": {
        "colab": {
          "base_uri": "https://localhost:8080/"
        },
        "id": "S8n0o4xjCzNW",
        "outputId": "d8a10b49-e27c-4d32-ea34-9494e1d0a253"
      },
      "execution_count": 15,
      "outputs": [
        {
          "output_type": "execute_result",
          "data": {
            "text/plain": [
              "['Name',\n",
              " 'Alignment',\n",
              " 'Intelligence',\n",
              " 'Strength',\n",
              " 'Speed',\n",
              " 'Durability',\n",
              " 'Power',\n",
              " 'Combat',\n",
              " 'Total']"
            ]
          },
          "metadata": {},
          "execution_count": 15
        }
      ]
    },
    {
      "cell_type": "code",
      "source": [
        "powers = powers.filter(powers.Alignment != 'NA')"
      ],
      "metadata": {
        "id": "AqcSYAY3CzQ1"
      },
      "execution_count": 16,
      "outputs": []
    },
    {
      "cell_type": "code",
      "source": [
        "powers.show(4)"
      ],
      "metadata": {
        "colab": {
          "base_uri": "https://localhost:8080/"
        },
        "id": "VdijfPdECw-k",
        "outputId": "e6ab0bbb-8b69-4c10-c00b-94b92bed522a"
      },
      "execution_count": 17,
      "outputs": [
        {
          "output_type": "stream",
          "name": "stdout",
          "text": [
            "+----------+---------+------------+--------+-----+----------+-----+------+-----+\n",
            "|      Name|Alignment|Intelligence|Strength|Speed|Durability|Power|Combat|Total|\n",
            "+----------+---------+------------+--------+-----+----------+-----+------+-----+\n",
            "|   3-D Man|     good|        50.0|    31.0| 43.0|      32.0| 25.0|  52.0|233.0|\n",
            "|    A-Bomb|     good|        38.0|   100.0| 17.0|      80.0| 17.0|  64.0|316.0|\n",
            "|Abe Sapien|     good|        88.0|    14.0| 35.0|      42.0| 35.0|  85.0|299.0|\n",
            "|  Abin Sur|     good|        50.0|    90.0| 53.0|      64.0| 84.0|  65.0|406.0|\n",
            "+----------+---------+------------+--------+-----+----------+-----+------+-----+\n",
            "only showing top 4 rows\n",
            "\n"
          ]
        }
      ]
    },
    {
      "cell_type": "code",
      "source": [
        "from pyspark.sql.types import IntegerType"
      ],
      "metadata": {
        "id": "xRcSRFAsKDBS"
      },
      "execution_count": 18,
      "outputs": []
    },
    {
      "cell_type": "code",
      "source": [
        "powers.show(1)"
      ],
      "metadata": {
        "colab": {
          "base_uri": "https://localhost:8080/"
        },
        "id": "QaxzdiR4CxDS",
        "outputId": "ec16b4e3-39f4-4d94-d0f2-67d5a8662d45"
      },
      "execution_count": 19,
      "outputs": [
        {
          "output_type": "stream",
          "name": "stdout",
          "text": [
            "+-------+---------+------------+--------+-----+----------+-----+------+-----+\n",
            "|   Name|Alignment|Intelligence|Strength|Speed|Durability|Power|Combat|Total|\n",
            "+-------+---------+------------+--------+-----+----------+-----+------+-----+\n",
            "|3-D Man|     good|        50.0|    31.0| 43.0|      32.0| 25.0|  52.0|233.0|\n",
            "+-------+---------+------------+--------+-----+----------+-----+------+-----+\n",
            "only showing top 1 row\n",
            "\n"
          ]
        }
      ]
    },
    {
      "cell_type": "code",
      "source": [
        "import sys\n",
        "from pyspark.sql.window import Window\n",
        "import pyspark.sql.functions as func"
      ],
      "metadata": {
        "id": "fP1VJJJMKIA1"
      },
      "execution_count": 20,
      "outputs": []
    },
    {
      "cell_type": "code",
      "source": [
        "windowSpecl = Window \\\n",
        "             .partitionBy(powers['Alignment']) \\\n",
        "             .orderBy(powers['Intelligence'].desc())"
      ],
      "metadata": {
        "id": "SN4ObqCAKlfH"
      },
      "execution_count": 21,
      "outputs": []
    },
    {
      "cell_type": "code",
      "source": [
        "followers_rank = (func.rank().over(windowSpecl))"
      ],
      "metadata": {
        "id": "lAk9dbj0LUaE"
      },
      "execution_count": 22,
      "outputs": []
    },
    {
      "cell_type": "code",
      "source": [
        "followers_rank = powers.select(powers['Name'],\n",
        "                               powers['Intelligence'],\n",
        "                               powers['Alignment']\n",
        "                               ).withColumn('rank',\n",
        "                                            func.rank().over(windowSpecl)\n",
        "\n",
        "                               )\n",
        "\n",
        "followers_rank.show(5)"
      ],
      "metadata": {
        "colab": {
          "base_uri": "https://localhost:8080/"
        },
        "id": "YBW95BmIKlhe",
        "outputId": "8fd5f6f6-ea13-425b-cb36-3942fb89b7b4"
      },
      "execution_count": 23,
      "outputs": [
        {
          "output_type": "stream",
          "name": "stdout",
          "text": [
            "+--------------+------------+---------+----+\n",
            "|          Name|Intelligence|Alignment|rank|\n",
            "+--------------+------------+---------+----+\n",
            "|   General Zod|        94.0|      bad|   1|\n",
            "|Superboy-Prime|        94.0|      bad|   1|\n",
            "|Solomon Grundy|         9.0|      bad|   3|\n",
            "|       Abraxas|        88.0|      bad|   4|\n",
            "|  Anti-Monitor|        88.0|      bad|   4|\n",
            "+--------------+------------+---------+----+\n",
            "only showing top 5 rows\n",
            "\n"
          ]
        }
      ]
    },
    {
      "cell_type": "code",
      "source": [
        "good_heros = followers_rank.filter(followers_rank['Alignment'] == 'good')\n",
        "good_heros.show()"
      ],
      "metadata": {
        "colab": {
          "base_uri": "https://localhost:8080/"
        },
        "id": "mK3MHcQwKlj3",
        "outputId": "3c7fa456-69ce-414f-f8d2-66aa0fe4ffca"
      },
      "execution_count": 24,
      "outputs": [
        {
          "output_type": "stream",
          "name": "stdout",
          "text": [
            "+-----------------+------------+---------+----+\n",
            "|             Name|Intelligence|Alignment|rank|\n",
            "+-----------------+------------+---------+----+\n",
            "|        Supergirl|        94.0|     good|   1|\n",
            "|             Dash|         9.0|     good|   2|\n",
            "|           Krypto|         9.0|     good|   2|\n",
            "|       Abe Sapien|        88.0|     good|   4|\n",
            "|        Batman II|        88.0|     good|   4|\n",
            "|            Beast|        88.0|     good|   4|\n",
            "|         Beyonder|        88.0|     good|   4|\n",
            "|    Black Panther|        88.0|     good|   4|\n",
            "|            Cable|        88.0|     good|   4|\n",
            "|          Century|        88.0|     good|   4|\n",
            "|     Dr Manhattan|        88.0|     good|   4|\n",
            "|             Hulk|        88.0|     good|   4|\n",
            "|        JJ Powell|        88.0|     good|   4|\n",
            "|           Metron|        88.0|     good|   4|\n",
            "|        Nightwing|        88.0|     good|   4|\n",
            "|       Power Girl|        88.0|     good|   4|\n",
            "|          Robin I|        88.0|     good|   4|\n",
            "|Scarlet Spider II|        88.0|     good|   4|\n",
            "|        Shadowcat|        88.0|     good|   4|\n",
            "|       Spider-Man|        88.0|     good|   4|\n",
            "+-----------------+------------+---------+----+\n",
            "only showing top 20 rows\n",
            "\n"
          ]
        }
      ]
    }
  ]
}